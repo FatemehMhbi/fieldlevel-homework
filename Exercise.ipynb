{
 "cells": [
  {
   "cell_type": "code",
   "execution_count": 1,
   "metadata": {},
   "outputs": [
    {
     "data": {
      "text/html": [
       "<style>.container { width:98% !important; }</style>"
      ],
      "text/plain": [
       "<IPython.core.display.HTML object>"
      ]
     },
     "metadata": {},
     "output_type": "display_data"
    }
   ],
   "source": [
    "from IPython.display import display, HTML, Markdown\n",
    "display(HTML(\"<style>.container { width:98% !important; }</style>\"))\n",
    "\n",
    "import pandas as pd\n",
    "pd.set_option(\"display.max_columns\",999)\n",
    "pd.options.display.max_rows = 9999\n",
    "pd.set_option('display.float_format', lambda x: '%.3f' % x)"
   ]
  },
  {
   "cell_type": "code",
   "execution_count": 3,
   "metadata": {},
   "outputs": [
    {
     "data": {
      "text/html": [
       "<div>\n",
       "<style scoped>\n",
       "    .dataframe tbody tr th:only-of-type {\n",
       "        vertical-align: middle;\n",
       "    }\n",
       "\n",
       "    .dataframe tbody tr th {\n",
       "        vertical-align: top;\n",
       "    }\n",
       "\n",
       "    .dataframe thead th {\n",
       "        text-align: right;\n",
       "    }\n",
       "</style>\n",
       "<table border=\"1\" class=\"dataframe\">\n",
       "  <thead>\n",
       "    <tr style=\"text-align: right;\">\n",
       "      <th></th>\n",
       "      <th>LogId</th>\n",
       "      <th>EmailSentDateTimeUtc</th>\n",
       "      <th>EmailCampaignId</th>\n",
       "      <th>EmailOpenedDateTimeUtc</th>\n",
       "      <th>EmailClickedDateTimeUtc</th>\n",
       "      <th>UserId</th>\n",
       "      <th>ZipCode</th>\n",
       "      <th>AddressData</th>\n",
       "    </tr>\n",
       "  </thead>\n",
       "  <tbody>\n",
       "    <tr>\n",
       "      <th>0</th>\n",
       "      <td>208728980120</td>\n",
       "      <td>2019-07-31 15:13:25.817</td>\n",
       "      <td>792229022220</td>\n",
       "      <td>NaN</td>\n",
       "      <td>NaN</td>\n",
       "      <td>851332105693</td>\n",
       "      <td>NaN</td>\n",
       "      <td>NaN</td>\n",
       "    </tr>\n",
       "    <tr>\n",
       "      <th>1</th>\n",
       "      <td>292563123584</td>\n",
       "      <td>2019-08-02 02:15:52.447</td>\n",
       "      <td>866429603262</td>\n",
       "      <td>2019-08-02 15:16:01.7533333</td>\n",
       "      <td>NaN</td>\n",
       "      <td>369293054977</td>\n",
       "      <td>NaN</td>\n",
       "      <td>NaN</td>\n",
       "    </tr>\n",
       "    <tr>\n",
       "      <th>2</th>\n",
       "      <td>72552047640</td>\n",
       "      <td>2019-08-07 16:21:37.293</td>\n",
       "      <td>383130475294</td>\n",
       "      <td>NaN</td>\n",
       "      <td>NaN</td>\n",
       "      <td>938684493058</td>\n",
       "      <td>NaN</td>\n",
       "      <td>NaN</td>\n",
       "    </tr>\n",
       "    <tr>\n",
       "      <th>3</th>\n",
       "      <td>1089121462891</td>\n",
       "      <td>2019-08-07 16:38:03.323</td>\n",
       "      <td>792229022220</td>\n",
       "      <td>NaN</td>\n",
       "      <td>NaN</td>\n",
       "      <td>50233193142</td>\n",
       "      <td>NaN</td>\n",
       "      <td>NaN</td>\n",
       "    </tr>\n",
       "    <tr>\n",
       "      <th>4</th>\n",
       "      <td>828770719378</td>\n",
       "      <td>2019-08-12 11:45:43.293</td>\n",
       "      <td>479810600058</td>\n",
       "      <td>NaN</td>\n",
       "      <td>NaN</td>\n",
       "      <td>369293054977</td>\n",
       "      <td>NaN</td>\n",
       "      <td>NaN</td>\n",
       "    </tr>\n",
       "  </tbody>\n",
       "</table>\n",
       "</div>"
      ],
      "text/plain": [
       "           LogId     EmailSentDateTimeUtc  EmailCampaignId  \\\n",
       "0   208728980120  2019-07-31 15:13:25.817     792229022220   \n",
       "1   292563123584  2019-08-02 02:15:52.447     866429603262   \n",
       "2    72552047640  2019-08-07 16:21:37.293     383130475294   \n",
       "3  1089121462891  2019-08-07 16:38:03.323     792229022220   \n",
       "4   828770719378  2019-08-12 11:45:43.293     479810600058   \n",
       "\n",
       "        EmailOpenedDateTimeUtc EmailClickedDateTimeUtc        UserId  ZipCode  \\\n",
       "0                          NaN                     NaN  851332105693      NaN   \n",
       "1  2019-08-02 15:16:01.7533333                     NaN  369293054977      NaN   \n",
       "2                          NaN                     NaN  938684493058      NaN   \n",
       "3                          NaN                     NaN   50233193142      NaN   \n",
       "4                          NaN                     NaN  369293054977      NaN   \n",
       "\n",
       "  AddressData  \n",
       "0         NaN  \n",
       "1         NaN  \n",
       "2         NaN  \n",
       "3         NaN  \n",
       "4         NaN  "
      ]
     },
     "metadata": {},
     "output_type": "display_data"
    },
    {
     "data": {
      "text/html": [
       "<div>\n",
       "<style scoped>\n",
       "    .dataframe tbody tr th:only-of-type {\n",
       "        vertical-align: middle;\n",
       "    }\n",
       "\n",
       "    .dataframe tbody tr th {\n",
       "        vertical-align: top;\n",
       "    }\n",
       "\n",
       "    .dataframe thead th {\n",
       "        text-align: right;\n",
       "    }\n",
       "</style>\n",
       "<table border=\"1\" class=\"dataframe\">\n",
       "  <thead>\n",
       "    <tr style=\"text-align: right;\">\n",
       "      <th></th>\n",
       "      <th>UserId</th>\n",
       "      <th>DateOfActivityPST</th>\n",
       "      <th>ActivityCount</th>\n",
       "    </tr>\n",
       "  </thead>\n",
       "  <tbody>\n",
       "    <tr>\n",
       "      <th>0</th>\n",
       "      <td>241710509395</td>\n",
       "      <td>2019-09-24</td>\n",
       "      <td>29</td>\n",
       "    </tr>\n",
       "    <tr>\n",
       "      <th>1</th>\n",
       "      <td>241710509395</td>\n",
       "      <td>2020-09-11</td>\n",
       "      <td>60</td>\n",
       "    </tr>\n",
       "    <tr>\n",
       "      <th>2</th>\n",
       "      <td>435228414681</td>\n",
       "      <td>2018-01-06</td>\n",
       "      <td>12</td>\n",
       "    </tr>\n",
       "    <tr>\n",
       "      <th>3</th>\n",
       "      <td>435228414681</td>\n",
       "      <td>2018-04-20</td>\n",
       "      <td>20</td>\n",
       "    </tr>\n",
       "    <tr>\n",
       "      <th>4</th>\n",
       "      <td>435228414681</td>\n",
       "      <td>2018-05-10</td>\n",
       "      <td>136</td>\n",
       "    </tr>\n",
       "  </tbody>\n",
       "</table>\n",
       "</div>"
      ],
      "text/plain": [
       "         UserId DateOfActivityPST  ActivityCount\n",
       "0  241710509395        2019-09-24             29\n",
       "1  241710509395        2020-09-11             60\n",
       "2  435228414681        2018-01-06             12\n",
       "3  435228414681        2018-04-20             20\n",
       "4  435228414681        2018-05-10            136"
      ]
     },
     "metadata": {},
     "output_type": "display_data"
    }
   ],
   "source": [
    "df_emails = pd.read_csv('data/email_data.csv',delimiter=',')\n",
    "display(df_emails.head())\n",
    "\n",
    "df_activity = pd.read_csv('data/activity_data.csv',delimiter=',')\n",
    "display(df_activity.head())"
   ]
  },
  {
   "cell_type": "code",
   "execution_count": 4,
   "metadata": {},
   "outputs": [
    {
     "name": "stdout",
     "output_type": "stream",
     "text": [
      "df_emails has  474163  number of rows\n",
      "df_activity has  4559973  number of rows\n"
     ]
    }
   ],
   "source": [
    "\"\"\"problem 1. how many rows in the two datasets\"\"\"\n",
    "print(\"df_emails has \", df_emails.shape[0], \" number of rows\")\n",
    "print(\"df_activity has \", df_activity.shape[0], \" number of rows\")"
   ]
  },
  {
   "cell_type": "code",
   "execution_count": 191,
   "metadata": {},
   "outputs": [
    {
     "name": "stdout",
     "output_type": "stream",
     "text": [
      "totally  15805434 emails were sent\n"
     ]
    }
   ],
   "source": [
    "\"\"\"If the log of emails represents 3% of the emails sent over this period, how many emails were sent\"\"\"\n",
    "\"\"\"Based on my understanding of this question, the dataset only includes 3% of emails that were sent. Therefore\n",
    "I simply count the number of emails in the dataset and then calculate the total number of emails. I am assuming \n",
    "that I may have duplicates in the data so I tried to get the unique email ids\"\"\"\n",
    "import math\n",
    "emails_ids = df_emails['LogId'].unique()\n",
    "num_of_indv_emails = len(emails_ids)\n",
    "total_num_of_emails = math.ceil((num_of_indv_emails * 100) / 3)\n",
    "print('totally ', total_num_of_emails, 'emails were sent')"
   ]
  },
  {
   "cell_type": "code",
   "execution_count": 192,
   "metadata": {},
   "outputs": [
    {
     "name": "stdout",
     "output_type": "stream",
     "text": [
      "The earliest date:  2018-01-03 20:29:47.573000-08:00\n",
      "The most recent date:  2021-04-19 06:45:15.720000-07:00\n"
     ]
    }
   ],
   "source": [
    "\"\"\"What are the earliest and most recent dates of emails sent in this dataset in California time\"\"\"\n",
    "from pytz import timezone\n",
    "import pytz\n",
    "email_sent_date = df_emails['EmailSentDateTimeUtc']\n",
    "dates_pts = pd.to_datetime(email_sent_date).dt.tz_localize('UTC').dt.tz_convert('US/Pacific')\n",
    "sorted_dates = sorted(dates_pts)\n",
    "print('The earliest date: ', sorted_dates[0])\n",
    "print('The most recent date: ', sorted_dates[-1])"
   ]
  },
  {
   "cell_type": "code",
   "execution_count": 193,
   "metadata": {},
   "outputs": [
    {
     "name": "stdout",
     "output_type": "stream",
     "text": [
      "The first 10 most repeated zipcodes are:  ['34210', '33801', '63301', '36104', '95971', '38301', '29203', '42301', '57401', '75134']\n",
      "The most repeated zipcode is:  34210\n"
     ]
    }
   ],
   "source": [
    "\"\"\"Which 10 zip codes receive the most emails and how many emails do they receive\"\"\"\n",
    "from collections import Counter\n",
    "import json\n",
    "addresses = df_emails['AddressData'].dropna()\n",
    "zipcodes = []\n",
    "for address in addresses:\n",
    "    json_acceptable_string = address.replace(\"'\", \"\\\"\")\n",
    "    d = json.loads(json_acceptable_string)\n",
    "    zipcodes.append(d['ZipCode'])\n",
    "counts = dict(Counter(zipcodes))\n",
    "counts.pop('NULL', None)\n",
    "sorted_counts = sorted(counts, key=counts.get, reverse=True)\n",
    "print(\"The first 10 most repeated zipcodes are: \", sorted_counts[:10])\n",
    "print(\"The most repeated zipcode is: \", max(counts, key=counts.get))"
   ]
  },
  {
   "cell_type": "code",
   "execution_count": 194,
   "metadata": {},
   "outputs": [
    {
     "data": {
      "text/plain": [
       "'ploting two lines: total distinct users who were sent at least 1 email by month and year\\nand the monthly percentage of users who were sent an email and were active the same day.\\nfirst I need to calculate these two values'"
      ]
     },
     "execution_count": 194,
     "metadata": {},
     "output_type": "execute_result"
    }
   ],
   "source": [
    "\"\"\"ploting two lines: total distinct users who were sent at least 1 email by month and year\n",
    "and the monthly percentage of users who were sent an email and were active the same day.\n",
    "first I need to calculate these two values\"\"\""
   ]
  },
  {
   "cell_type": "code",
   "execution_count": 195,
   "metadata": {},
   "outputs": [
    {
     "name": "stdout",
     "output_type": "stream",
     "text": [
      "              UserId m_y_date\n",
      "0       851332105693  2019-07\n",
      "1       369293054977  2019-08\n",
      "2       938684493058  2019-08\n",
      "3        50233193142  2019-08\n",
      "4       369293054977  2019-08\n",
      "...              ...      ...\n",
      "474158  155726404619  2021-04\n",
      "474159  906354699455  2021-04\n",
      "474160  772106964664  2021-04\n",
      "474161  944437414453  2021-04\n",
      "474162  944437414453  2021-04\n",
      "\n",
      "[474163 rows x 2 columns]\n"
     ]
    }
   ],
   "source": [
    "\"\"\"to calculate total distinct users who were sent at least 1 email by month and year, I need to divid dates into \n",
    "groups for each month and year.\"\"\"\n",
    "email_sent_date = pd.to_datetime(df_emails['EmailSentDateTimeUtc'])\n",
    "m_y = email_sent_date.dt.to_period('M')\n",
    "m_y_df = pd.DataFrame()\n",
    "m_y_df['UserId'] = df_emails['UserId']\n",
    "m_y_df['m_y_date'] = m_y\n",
    "print(m_y_df)\n",
    "line_1 = m_y_df.groupby(['m_y_date']).count()"
   ]
  },
  {
   "cell_type": "code",
   "execution_count": 196,
   "metadata": {},
   "outputs": [
    {
     "name": "stdout",
     "output_type": "stream",
     "text": [
      "             UserId     date\n",
      "0      186430397022  2020-04\n",
      "1      647719877575  2020-10\n",
      "2      369293054977  2019-03\n",
      "3      777936414070  2018-07\n",
      "4      777936414070  2020-03\n",
      "...             ...      ...\n",
      "87897  765798319854  2021-04\n",
      "87898  154439063284  2021-04\n",
      "87899  772106964664  2021-04\n",
      "87900  944437414453  2021-04\n",
      "87901  944437414453  2021-04\n",
      "\n",
      "[87902 rows x 2 columns]\n"
     ]
    }
   ],
   "source": [
    "\"\"\"to calculate the monthly percentage of users who were sent an email and were active the same day, I need to use \n",
    "the second dataset to get the users who were active the same day\"\"\"\n",
    "import numpy as np\n",
    "active_users = df_activity[['UserId', 'DateOfActivityPST']]\n",
    "active_users.columns = ['UserId', 'date']\n",
    "email_date = pd.to_datetime(df_emails['EmailSentDateTimeUtc']).dt.to_period('D')\n",
    "email_date_df = pd.DataFrame()\n",
    "email_date_df['UserId'] = df_emails['UserId']\n",
    "email_date_df['date'] = [str(i) for i in email_date]\n",
    "intersection = pd.merge(email_date_df, active_users, how='inner')\n",
    "date = pd.to_datetime(intersection['date'])\n",
    "m_y = date.dt.to_period('M')\n",
    "intersection['date'] = m_y\n",
    "print(intersection)\n",
    "line_2 = intersection.groupby(['date']).count()"
   ]
  },
  {
   "cell_type": "code",
   "execution_count": 197,
   "metadata": {},
   "outputs": [
    {
     "data": {
      "image/png": "[encoded data removed]",
      "text/plain": [
       "<Figure size 432x288 with 1 Axes>"
      ]
     },
     "metadata": {
      "needs_background": "light"
     },
     "output_type": "display_data"
    }
   ],
   "source": [
    "import matplotlib.pyplot as plt\n",
    "plt.plot(range(line_1.shape[0]), line_1['UserId'].values, label = \"line 1\")\n",
    "plt.plot([str(i) for i in line_2.index], line_2['UserId'].values, label = \"line 2\")\n",
    "plt.xticks(fontsize=3, rotation=90)\n",
    "plt.title('problem 3')\n",
    "plt.legend()\n",
    "plt.show()"
   ]
  },
  {
   "cell_type": "code",
   "execution_count": null,
   "metadata": {},
   "outputs": [],
   "source": []
  }
 ],
 "metadata": {
  "kernelspec": {
   "display_name": "Python 3 (ipykernel)",
   "language": "python",
   "name": "python3"
  },
  "language_info": {
   "codemirror_mode": {
    "name": "ipython",
    "version": 3
   },
   "file_extension": ".py",
   "mimetype": "text/x-python",
   "name": "python",
   "nbconvert_exporter": "python",
   "pygments_lexer": "ipython3",
   "version": "3.8.12"
  }
 },
 "nbformat": 4,
 "nbformat_minor": 4
}
